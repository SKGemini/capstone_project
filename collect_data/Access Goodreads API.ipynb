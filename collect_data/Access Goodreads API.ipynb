{
 "cells": [
  {
   "cell_type": "markdown",
   "metadata": {},
   "source": [
    "# Using Goodreads API\n",
    "\n",
    "## Why I collected more data\n",
    "\n",
    "My initial dataset was from Kaggle's Goodreads 10K Most Popular Books. Knowing that I needed more books to analyze, I turned to Goodreads API to access them. There is a Python package called Goodreads that provides a nice interface when using Goodreads API. Here are the links to the documentation or source:\n",
    "\n",
    "- https://www.kaggle.com/zygmunt/goodbooks-10k\n",
    "- https://pypi.org/project/Goodreads/\n",
    "- https://www.goodreads.com/api"
   ]
  },
  {
   "cell_type": "code",
   "execution_count": 1,
   "metadata": {},
   "outputs": [],
   "source": [
    "import boto, json, pickle, os\n",
    "from goodreads import client"
   ]
  },
  {
   "cell_type": "markdown",
   "metadata": {},
   "source": [
    "Goodreads API gives you two access tokens--key and secret. You need to have these in order to access certain methods in the Python package."
   ]
  },
  {
   "cell_type": "code",
   "execution_count": 2,
   "metadata": {},
   "outputs": [],
   "source": [
    "key = ['my_key']\n",
    "secret = ['my_secret']\n",
    "gc = client.GoodreadsClient(key,secret)"
   ]
  },
  {
   "cell_type": "markdown",
   "metadata": {},
   "source": [
    "## Demonstration: Using Goodreads Python package"
   ]
  },
  {
   "cell_type": "markdown",
   "metadata": {},
   "source": [
    "To find features of a book, you need to give it the Goodreads book ID or an ISBN.\n",
    "\n",
    "Here's an example of looking up a book using the book ID."
   ]
  },
  {
   "cell_type": "code",
   "execution_count": 6,
   "metadata": {},
   "outputs": [
    {
     "name": "stdout",
     "output_type": "stream",
     "text": [
      "The title of book ID 1 is Harry Potter and the Half-Blood Prince (Harry Potter, #6), written by J.K. Rowling.\n"
     ]
    }
   ],
   "source": [
    "book = gc.book(1)\n",
    "print(\"The title of book ID 1 is {}, written by {}.\".format(book.title,book.authors[0]))"
   ]
  },
  {
   "cell_type": "markdown",
   "metadata": {},
   "source": [
    "Taking a look at the documentation, I choose a certain number for features of books and authors. After each API ping, I wrote the dictionary of features into a json file."
   ]
  },
  {
   "cell_type": "code",
   "execution_count": 48,
   "metadata": {},
   "outputs": [],
   "source": [
    "def append_record(record):\n",
    "    with open('goodreads_data_id', 'a') as f:\n",
    "        json.dump(record, f)\n",
    "        f.write(os.linesep)\n",
    "        \n",
    "for each in id:\n",
    "    try:\n",
    "        book = gc.book(each)\n",
    "        authors_id = book.authors[0].gid\n",
    "        author = gc.author(authors_id)\n",
    "        records = {'isbn':book.isbn,'book_id':each,'title':str(book.title),'author':str(book.authors[0]),\n",
    "                   'average_rating':book.average_rating,'rating_dist':book.rating_dist,\n",
    "                   'pages':book.num_pages,'description':str(book.description),\n",
    "                   'is_series':book.series_works,'year':book.publication_date[-1],'month':book.publication_date[1],\n",
    "                   'tags':str(book.popular_shelves),'birth_date':author.born_at,'death':author.died_at,\n",
    "                   'gender':author.gender,'hometown':author.hometown,'num_works':author.works_count,\n",
    "                   'widget':book.reviews_widget,'image_url':book.image_url}\n",
    "        append_record(records)\n",
    "    except:\n",
    "        pass"
   ]
  },
  {
   "cell_type": "code",
   "execution_count": null,
   "metadata": {},
   "outputs": [],
   "source": []
  }
 ],
 "metadata": {
  "kernelspec": {
   "display_name": "Python 3",
   "language": "python",
   "name": "python3"
  },
  "language_info": {
   "codemirror_mode": {
    "name": "ipython",
    "version": 3
   },
   "file_extension": ".py",
   "mimetype": "text/x-python",
   "name": "python",
   "nbconvert_exporter": "python",
   "pygments_lexer": "ipython3",
   "version": "3.6.5"
  }
 },
 "nbformat": 4,
 "nbformat_minor": 2
}
