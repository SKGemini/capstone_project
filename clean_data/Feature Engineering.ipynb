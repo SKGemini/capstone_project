{
 "cells": [
  {
   "cell_type": "markdown",
   "metadata": {},
   "source": [
    "# How I approached feature engineering"
   ]
  },
  {
   "cell_type": "code",
   "execution_count": 1,
   "metadata": {},
   "outputs": [],
   "source": [
    "%matplotlib inline\n",
    "import matplotlib.pyplot as plt\n",
    "import pandas as pd\n",
    "import numpy as np\n",
    "from ast import literal_eval\n",
    "from collections import Counter, defaultdict\n",
    "import json"
   ]
  },
  {
   "cell_type": "markdown",
   "metadata": {},
   "source": [
    "## Loading data\n",
    "After collecting data using Goodreads API, load the json file and turn it into a pandas dataframe."
   ]
  },
  {
   "cell_type": "code",
   "execution_count": 2,
   "metadata": {},
   "outputs": [],
   "source": [
    "with open('goodreads_data2') as f:\n",
    "    data2 = [json.loads(line) for line in f]\n",
    "    \n",
    "with open('goodreads_data3') as f:\n",
    "    data3 = [json.loads(line) for line in f]\n",
    "\n",
    "with open('goodreads_data4') as f:\n",
    "    data4 = [json.loads(line) for line in f]\n",
    "    \n",
    "with open('goodreads_data5') as f:\n",
    "    data5 = [json.loads(line) for line in f]\n",
    "\n",
    "with open('goodreads_data6') as f:\n",
    "    data6 = [json.loads(line) for line in f]\n",
    "\n",
    "df = pd.DataFrame(data2+data3+data4+data5+data6)\n",
    "df = df.drop_duplicates(subset=['author','title'],keep='first')"
   ]
  },
  {
   "cell_type": "code",
   "execution_count": 3,
   "metadata": {},
   "outputs": [
    {
     "name": "stdout",
     "output_type": "stream",
     "text": [
      "<class 'pandas.core.frame.DataFrame'>\n",
      "Int64Index: 20670 entries, 0 to 22257\n",
      "Data columns (total 19 columns):\n",
      "author            20670 non-null object\n",
      "average_rating    20670 non-null object\n",
      "birth_date        11350 non-null object\n",
      "book_id           20670 non-null object\n",
      "death             5730 non-null object\n",
      "description       20670 non-null object\n",
      "gender            17488 non-null object\n",
      "hometown          14856 non-null object\n",
      "image_url         20670 non-null object\n",
      "is_series         9324 non-null object\n",
      "isbn              19971 non-null object\n",
      "month             16659 non-null object\n",
      "num_works         20670 non-null object\n",
      "pages             17993 non-null object\n",
      "rating_dist       20670 non-null object\n",
      "tags              20670 non-null object\n",
      "title             20670 non-null object\n",
      "widget            20670 non-null object\n",
      "year              18492 non-null object\n",
      "dtypes: object(19)\n",
      "memory usage: 3.2+ MB\n"
     ]
    }
   ],
   "source": [
    "df.info()"
   ]
  },
  {
   "cell_type": "markdown",
   "metadata": {},
   "source": [
    "Taking a look at df.info(), I notice that the datatypes for numerical features such as num_works is object, not int or float. Therefore, I converted the datatypes for the following:"
   ]
  },
  {
   "cell_type": "code",
   "execution_count": null,
   "metadata": {},
   "outputs": [],
   "source": [
    "#Convert data type into integers\n",
    "df['average_rating'] = df['average_rating'].astype(float)\n",
    "df['num_works'] = df['num_works'].astype(float)\n",
    "df['pages'] = df['pages'].astype(float)\n",
    "df['month'] = df['month'].astype(float)\n",
    "df['year'] = df['year'].astype(float)"
   ]
  },
  {
   "cell_type": "code",
   "execution_count": 149,
   "metadata": {},
   "outputs": [],
   "source": [
    "df.columns = ['author', 'avg_rating', 'birth_date', 'book_id', 'death_date',\n",
    "       'description', 'gender', 'hometown', 'image_url', 'is_series', 'isbn',\n",
    "       'month', 'num_works', 'pages', 'rating_dist', 'tags', 'title', 'widget',\n",
    "       'year']"
   ]
  },
  {
   "cell_type": "markdown",
   "metadata": {},
   "source": [
    "Import list of books with cinematic adaptations and make a new column called \"has_movie\"."
   ]
  },
  {
   "cell_type": "code",
   "execution_count": 150,
   "metadata": {},
   "outputs": [],
   "source": [
    "with open('booksmovies_list.txt',encoding=\"utf8\") as f:\n",
    "    allbooksmovies = f.read().splitlines()"
   ]
  },
  {
   "cell_type": "code",
   "execution_count": 151,
   "metadata": {},
   "outputs": [],
   "source": [
    "movies = []\n",
    "lst = list(df.title.values)\n",
    "for book in lst:\n",
    "    if book.split('(')[0].strip() in allbooksmovies:\n",
    "        movies.append(1)\n",
    "    else:\n",
    "        movies.append(0)"
   ]
  },
  {
   "cell_type": "code",
   "execution_count": 153,
   "metadata": {},
   "outputs": [
    {
     "data": {
      "text/plain": [
       "0    17318\n",
       "1     1557\n",
       "Name: has_movie, dtype: int64"
      ]
     },
     "execution_count": 153,
     "metadata": {},
     "output_type": "execute_result"
    }
   ],
   "source": [
    "df['has_movie'] = np.array(movies)\n",
    "df.has_movie.value_counts() #Take a look at movie counts"
   ]
  },
  {
   "cell_type": "markdown",
   "metadata": {},
   "source": [
    "Let's check how many tags there are."
   ]
  },
  {
   "cell_type": "code",
   "execution_count": 13,
   "metadata": {},
   "outputs": [],
   "source": [
    "tags = []\n",
    "for tag in list(df.tags.values):\n",
    "    tags.append(tag.replace('[','').replace(']','').split(', '))"
   ]
  },
  {
   "cell_type": "code",
   "execution_count": 14,
   "metadata": {},
   "outputs": [],
   "source": [
    "all_tags = list(itertools.chain.from_iterable(tags)) #join list of lists\n",
    "counts = Counter(all_tags) #count frequency of tags"
   ]
  },
  {
   "cell_type": "code",
   "execution_count": 16,
   "metadata": {},
   "outputs": [
    {
     "data": {
      "text/plain": [
       "127839"
      ]
     },
     "execution_count": 16,
     "metadata": {},
     "output_type": "execute_result"
    }
   ],
   "source": [
    "len(counts)"
   ]
  },
  {
   "cell_type": "markdown",
   "metadata": {},
   "source": [
    "With so many unique tags, I need to focus on the most common and best tags through pandas's get_dummies."
   ]
  },
  {
   "cell_type": "code",
   "execution_count": 17,
   "metadata": {},
   "outputs": [],
   "source": [
    "mod_tag = []\n",
    "top_keys = set(dict(counts.most_common(300)).keys()) #find most common tags\n",
    "for tag in tags:\n",
    "    mod_tag.append([x for x in tag if x in top_keys])"
   ]
  },
  {
   "cell_type": "code",
   "execution_count": 18,
   "metadata": {},
   "outputs": [],
   "source": [
    "genres = pd.DataFrame(np.array(mod_tag))\n",
    "genres.columns = ['mod_tags']"
   ]
  },
  {
   "cell_type": "code",
   "execution_count": 19,
   "metadata": {},
   "outputs": [],
   "source": [
    "mod_data = pd.merge(df,genres,left_index=True,right_index=True)\n",
    "s = pd.Series(mod_data['mod_tags'])\n",
    "all_books = pd.concat([mod_data.reset_index(),pd.get_dummies(s.apply(pd.Series).stack()).sum(level=0)],axis=1)"
   ]
  },
  {
   "cell_type": "code",
   "execution_count": 20,
   "metadata": {},
   "outputs": [
    {
     "data": {
      "text/html": [
       "<div>\n",
       "<style scoped>\n",
       "    .dataframe tbody tr th:only-of-type {\n",
       "        vertical-align: middle;\n",
       "    }\n",
       "\n",
       "    .dataframe tbody tr th {\n",
       "        vertical-align: top;\n",
       "    }\n",
       "\n",
       "    .dataframe thead th {\n",
       "        text-align: right;\n",
       "    }\n",
       "</style>\n",
       "<table border=\"1\" class=\"dataframe\">\n",
       "  <thead>\n",
       "    <tr style=\"text-align: right;\">\n",
       "      <th></th>\n",
       "      <th>index</th>\n",
       "      <th>author</th>\n",
       "      <th>avg_rating</th>\n",
       "      <th>birth_date</th>\n",
       "      <th>book_id</th>\n",
       "      <th>death_date</th>\n",
       "      <th>description</th>\n",
       "      <th>gender</th>\n",
       "      <th>hometown</th>\n",
       "      <th>image_url</th>\n",
       "      <th>...</th>\n",
       "      <th>wish-list</th>\n",
       "      <th>women</th>\n",
       "      <th>ya</th>\n",
       "      <th>ya-books</th>\n",
       "      <th>ya-fantasy</th>\n",
       "      <th>ya-fiction</th>\n",
       "      <th>ya-lit</th>\n",
       "      <th>young-adult</th>\n",
       "      <th>young-adult-fiction</th>\n",
       "      <th>youth</th>\n",
       "    </tr>\n",
       "  </thead>\n",
       "  <tbody>\n",
       "    <tr>\n",
       "      <th>0</th>\n",
       "      <td>0</td>\n",
       "      <td>Suzanne Collins</td>\n",
       "      <td>4.34</td>\n",
       "      <td>1962/08/11</td>\n",
       "      <td>2767052</td>\n",
       "      <td>None</td>\n",
       "      <td>&lt;b&gt;Winning will make you famous. &lt;br /&gt;Losing ...</td>\n",
       "      <td>female</td>\n",
       "      <td>Hartford, Connecticut</td>\n",
       "      <td>https://images.gr-assets.com/books/1447303603m...</td>\n",
       "      <td>...</td>\n",
       "      <td>0.0</td>\n",
       "      <td>0.0</td>\n",
       "      <td>1.0</td>\n",
       "      <td>1.0</td>\n",
       "      <td>1.0</td>\n",
       "      <td>1.0</td>\n",
       "      <td>1.0</td>\n",
       "      <td>1.0</td>\n",
       "      <td>1.0</td>\n",
       "      <td>0.0</td>\n",
       "    </tr>\n",
       "    <tr>\n",
       "      <th>1</th>\n",
       "      <td>1</td>\n",
       "      <td>J.K. Rowling</td>\n",
       "      <td>4.45</td>\n",
       "      <td>1965/07/31</td>\n",
       "      <td>3</td>\n",
       "      <td>None</td>\n",
       "      <td>Harry Potter's life is miserable. His parents ...</td>\n",
       "      <td>female</td>\n",
       "      <td>Yate, South Gloucestershire, England</td>\n",
       "      <td>https://images.gr-assets.com/books/1474154022m...</td>\n",
       "      <td>...</td>\n",
       "      <td>0.0</td>\n",
       "      <td>0.0</td>\n",
       "      <td>1.0</td>\n",
       "      <td>0.0</td>\n",
       "      <td>1.0</td>\n",
       "      <td>1.0</td>\n",
       "      <td>0.0</td>\n",
       "      <td>1.0</td>\n",
       "      <td>1.0</td>\n",
       "      <td>1.0</td>\n",
       "    </tr>\n",
       "  </tbody>\n",
       "</table>\n",
       "<p>2 rows × 322 columns</p>\n",
       "</div>"
      ],
      "text/plain": [
       "   index           author  avg_rating  birth_date  book_id death_date  \\\n",
       "0      0  Suzanne Collins        4.34  1962/08/11  2767052       None   \n",
       "1      1     J.K. Rowling        4.45  1965/07/31        3       None   \n",
       "\n",
       "                                         description  gender  \\\n",
       "0  <b>Winning will make you famous. <br />Losing ...  female   \n",
       "1  Harry Potter's life is miserable. His parents ...  female   \n",
       "\n",
       "                               hometown  \\\n",
       "0                 Hartford, Connecticut   \n",
       "1  Yate, South Gloucestershire, England   \n",
       "\n",
       "                                           image_url  ...   wish-list women  \\\n",
       "0  https://images.gr-assets.com/books/1447303603m...  ...         0.0   0.0   \n",
       "1  https://images.gr-assets.com/books/1474154022m...  ...         0.0   0.0   \n",
       "\n",
       "    ya  ya-books  ya-fantasy ya-fiction ya-lit young-adult  \\\n",
       "0  1.0       1.0         1.0        1.0    1.0         1.0   \n",
       "1  1.0       0.0         1.0        1.0    0.0         1.0   \n",
       "\n",
       "  young-adult-fiction  youth  \n",
       "0                 1.0    0.0  \n",
       "1                 1.0    1.0  \n",
       "\n",
       "[2 rows x 322 columns]"
      ]
     },
     "execution_count": 20,
     "metadata": {},
     "output_type": "execute_result"
    }
   ],
   "source": [
    "all_books.head(2)"
   ]
  },
  {
   "cell_type": "code",
   "execution_count": 21,
   "metadata": {
    "scrolled": true
   },
   "outputs": [
    {
     "name": "stdout",
     "output_type": "stream",
     "text": [
      "Pretty printing has been turned OFF\n"
     ]
    },
    {
     "data": {
      "text/plain": [
       "['index', 'author', 'avg_rating', 'birth_date', 'book_id', 'death_date', 'description', 'gender', 'hometown', 'image_url', 'is_series', 'isbn', 'month', 'num_works', 'pages', 'rating_dist', 'tags', 'title', 'widget', 'year', 'has_movie', 'mod_tags', '1', '1001', '1001-books', '1001-books-to-read-before-you-die', '19th-century', '2006', '2013-reads', '2014-reads', '2015-reads', '2016-reads', '2017-reads', '20th-century', '21st-century', '3-stars', '4-stars', '5-stars', 'abandoned', 'action', 'action-adventure', 'adult', 'adult-fiction', 'adventure', 'all-time-favorites', 'america', 'american', 'american-lit', 'american-literature', 'animals', 'audible', 'audio', 'audio-book', 'audio-books', 'audiobook', 'audiobooks', 'autobiography', 'biographies', 'biography', 'biography-memoir', 'book-club', 'book-club-books', 'book-group', 'bookclub', 'books', 'books-i-have', 'books-i-own', 'books-owned', 'bookshelf', 'borrowed', 'bought', 'british', 'british-literature', 'calibre', 'chick-lit', 'childhood', 'childhood-books', 'childhood-favorites', 'childhood-reads', 'children', 'children-s', 'children-s-books', 'children-s-fiction', 'children-s-lit', 'children-s-literature', 'childrens', 'childrens-books', 'childrens-lit', 'classic', 'classic-fiction', 'classic-lit', 'classic-literature', 'classics', 'classics-to-read', 'collection', 'college', 'comedy', 'coming-of-age', 'contemporary', 'contemporary-fiction', 'contemporary-romance', 'couldn-t-finish', 'crime', 'crime-fiction', 'crime-mystery', 'crime-thriller', 'currently-reading', 'dark', 'default', 'detective', 'did-not-finish', 'didn-t-finish', 'dnf', 'drama', 'dystopia', 'dystopian', 'e-book', 'e-books', 'ebook', 'ebooks', 'england', 'english', 'epic-fantasy', 'europe', 'family', 'fantasy', 'fantasy-sci-fi', 'fantasy-scifi', 'faves', 'favorite', 'favorite-authors', 'favorite-books', 'favorite-series', 'favorites', 'favourite', 'favourites', 'female-author', 'female-authors', 'fiction', 'finished', 'first-in-series', 'for-school', 'friendship', 'funny', 'gave-up-on', 'general', 'general-fiction', 'hardcover', 'have', 'high-fantasy', 'high-school', 'historical', 'historical-fiction', 'history', 'home', 'home-library', 'horror', 'humor', 'humorous', 'humour', 'i-own', 'in-my-library', 'inspirational', 'juvenile', 'juvenile-fiction', 'kids', 'kids-books', 'kindle', 'kindle-books', 'library', 'library-book', 'library-books', 'listened-to', 'lit', 'literary', 'literary-fiction', 'literature', 'love', 'magic', 'maybe', 'memoir', 'memoir-biography', 'memoirs', 'middle-grade', 'middle-school', 'mine', 'modern-fiction', 'murder', 'murder-mystery', 'must-read', 'my-books', 'my-bookshelf', 'my-favorites', 'my-library', 'mysteries', 'mystery', 'mystery-crime', 'mystery-suspense', 'mystery-thriller', 'mystery-thrillers', 'mythology', 'need-to-buy', 'never-finished', 'non-fic', 'non-fiction', 'non-fiction-to-read', 'nonfiction', 'nook', 'not-read', 'novel', 'novels', 'on-hold', 'on-kindle', 'on-my-bookshelf', 'on-my-shelf', 'other', 'overdrive', 'own-it', 'own-to-read', 'owned', 'owned-books', 'owned-to-read', 'paperback', 'paranormal', 'paranormal-romance', 'part-of-a-series', 'personal-library', 'philosophy', 'politics', 'psychology', 're-read', 'read-2011', 'read-2012', 'read-2013', 'read-2014', 'read-2015', 'read-2016', 'read-2017', 'read-for-school', 'read-in-2009', 'read-in-2010', 'read-in-2011', 'read-in-2012', 'read-in-2013', 'read-in-2014', 'read-in-2015', 'read-in-2016', 'read-in-2017', 'read-in-2018', 'read-in-english', 'read-more-than-once', 'realistic-fiction', 'recommended', 'reference', 'relationships', 'religion', 'reread', 'reviewed', 'romance', 'school', 'school-books', 'sci-fi', 'sci-fi-and-fantasy', 'sci-fi-fantasy', 'science', 'science-fiction', 'science-fiction-fantasy', 'scifi', 'scifi-fantasy', 'self-help', 'series', 'sf', 'sf-fantasy', 'sff', 'shelfari-favorites', 'shelfari-wishlist', 'short-stories', 'speculative-fiction', 'spiritual', 'spirituality', 'stand-alone', 'supernatural', 'suspense', 'suspense-thriller', 'tbr', 'teen', 'teen-fiction', 'thriller', 'thriller-mystery', 'thriller-suspense', 'thrillers', 'to-buy', 'to-get', 'to-re-read', 'to-read', 'to-read-classics', 'to-read-fiction', 'to-read-non-fiction', 'to-read-nonfiction', 'to-read-own', 'to-read-owned', 'translated', 'travel', 'uk', 'unfinished', 'unread', 'urban-fantasy', 'usa', 'want', 'want-to-buy', 'want-to-read', 'war', 'wish-list', 'women', 'ya', 'ya-books', 'ya-fantasy', 'ya-fiction', 'ya-lit', 'young-adult', 'young-adult-fiction', 'youth']"
      ]
     },
     "execution_count": 21,
     "metadata": {},
     "output_type": "execute_result"
    }
   ],
   "source": [
    "%pprint\n",
    "list(all_books.columns)"
   ]
  },
  {
   "cell_type": "markdown",
   "metadata": {},
   "source": [
    "As shown above, we see repetive tags such as \"ebook\" and \"e-books\". I combined those tags into one and added them as columns in my dataframe."
   ]
  },
  {
   "cell_type": "code",
   "execution_count": 22,
   "metadata": {
    "scrolled": true
   },
   "outputs": [],
   "source": [
    "data = all_books.drop(['index','book_id','author','birth_date','widget','isbn','hometown','image_url','tags','mod_tags'],axis=1)\n",
    "\n",
    "data['has_audiobook'] = data['audible'] + data['audio'] + data['audio-book'] + data['audio-books'] + data['audiobook'] + data['audiobooks']\n",
    "data['has_audiobook'] = data['has_audiobook'].apply(lambda x: 1 if x > 0 else 0)\n",
    "\n",
    "data['young_adult'] = data['ya'] + data['ya-books'] + data['ya-fiction'] + data['ya-fantasy'] + data['young-adult'] + data['young-adult-fiction'] + data['teen']\n",
    "data['young_adult'] = data['young_adult'].apply(lambda x: 1 if x > 0 else 0)\n",
    "\n",
    "data['childrens_fiction'] = data['childhood'] + data['children'] + data['children-s'] + data['children-s-books'] + data['childrens'] + data['childrens-books'] + data['kids'] + data['kids-books'] + data['juvenile']\n",
    "data['childrens_fiction'] = data['childrens_fiction'].apply(lambda x: 1 if x > 0 else 0)\n",
    "\n",
    "data['has_ebook'] = data['e-book'] + data['e-books'] + data['ebook'] + data['ebooks'] + data['kindle'] + data['kindle-books'] + data['nook']\n",
    "data['has_ebook'] = data['has_ebook'].apply(lambda x: 1 if x > 0 else 0)\n",
    "\n",
    "data['science_fiction'] = data['sci-fi'] + data['sci-fi-fantasy'] + data['fantasy-sci-fi'] + data['fantasy-scifi'] + data['science-fiction'] + data['science-fiction-fantasy'] + data['scifi'] + data['scifi-fantasy']\n",
    "data['science_fiction'] = data['science_fiction'].apply(lambda x: 1 if x > 0 else 0)\n",
    "\n",
    "data['is_classic'] = data['classic'] + data['classics'] + data['classic-literature']\n",
    "data['is_classic'] = data['is_classic'].apply(lambda x: 1 if x > 0 else 0)\n",
    "\n",
    "data['fantasy_fiction'] = data['fantasy'] + data['fantasy-sci-fi'] + data['fantasy-scifi']\n",
    "data['fantasy_fiction'] = data['fantasy_fiction'].apply(lambda x: 1 if x > 0 else 0)\n",
    "\n",
    "data['mystery_fiction'] = data['mysteries'] + data['mystery'] + data['mystery-crime'] + data['mystery-suspense'] + data['mystery-thriller']\n",
    "data['mystery_fiction'] = data['mystery_fiction'].apply(lambda x: 1 if x > 0 else 0)\n",
    "\n",
    "data['historical_fiction'] = data['historical'] + data['historical-fiction']\n",
    "data['historical_fiction'] = data['historical_fiction'].apply(lambda x: 1 if x > 0 else 0)\n",
    "\n",
    "data['non_fiction'] = data['non-fiction'] + data['nonfiction']\n",
    "data['non_fiction'] = data['non_fiction'].apply(lambda x: 1 if x > 0 else 0)\n",
    "\n",
    "data['dystopian_future'] = data['dystopia'] + data['dystopian']\n",
    "data['dystopian_future'] = data['dystopian_future'].apply(lambda x: 1 if x > 0 else 0)\n",
    "\n",
    "data = pd.merge(data, pd.get_dummies(data.gender),left_index=True,right_index=True)\n",
    "\n",
    "data['death_date'] = data['death_date'].apply(lambda x: 1 if x else 0)\n",
    "\n",
    "data['year'] = data['year'].fillna(data['year'].mean()).astype(int)"
   ]
  },
  {
   "cell_type": "code",
   "execution_count": 36,
   "metadata": {},
   "outputs": [],
   "source": [
    "data['is_series'] = data['is_series'].apply(lambda x: 1 if x else 0)"
   ]
  },
  {
   "cell_type": "code",
   "execution_count": 23,
   "metadata": {},
   "outputs": [],
   "source": [
    "years = pd.get_dummies(data.year)\n",
    "years_columns = list(years.columns)\n",
    "data = pd.merge(data,years,left_index=True,right_index=True)"
   ]
  },
  {
   "cell_type": "code",
   "execution_count": 37,
   "metadata": {},
   "outputs": [],
   "source": [
    "cleaned_data = data[['year','death_date','female','male','is_series','biography','autobiography','science_fiction','romance',\n",
    "                     'is_classic','comedy','coming-of-age','fantasy_fiction', 'mystery_fiction','dystopian_future',\n",
    "                     'historical_fiction','realistic-fiction','drama','horror','crime','suspense','paranormal',\n",
    "                     'thriller','war','contemporary','chick-lit','action','young_adult','adult','animals','action',\n",
    "                     'childrens_fiction','avg_rating','num_works','has_movie']+years_columns].fillna(0)"
   ]
  },
  {
   "cell_type": "markdown",
   "metadata": {},
   "source": [
    "All of this code is in my clean_df python script."
   ]
  }
 ],
 "metadata": {
  "kernelspec": {
   "display_name": "Python 3",
   "language": "python",
   "name": "python3"
  },
  "language_info": {
   "codemirror_mode": {
    "name": "ipython",
    "version": 3
   },
   "file_extension": ".py",
   "mimetype": "text/x-python",
   "name": "python",
   "nbconvert_exporter": "python",
   "pygments_lexer": "ipython3",
   "version": "3.6.5"
  }
 },
 "nbformat": 4,
 "nbformat_minor": 2
}
